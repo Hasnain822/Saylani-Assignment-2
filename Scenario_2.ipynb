{
  "metadata": {
    "kernelspec": {
      "name": "python",
      "display_name": "Python (Pyodide)",
      "language": "python"
    },
    "language_info": {
      "codemirror_mode": {
        "name": "python",
        "version": 3
      },
      "file_extension": ".py",
      "mimetype": "text/x-python",
      "name": "python",
      "nbconvert_exporter": "python",
      "pygments_lexer": "ipython3",
      "version": "3.8"
    }
  },
  "nbformat_minor": 4,
  "nbformat": 4,
  "cells": [
    {
      "cell_type": "code",
      "source": "# Scenario 2: Students Grades (based on college grading system)\n\nsubjects_grades = {} #main dict for all subject grades\n\n# Inquiring about the number of students and subjects:\nstudents_number = int(input(\"How many students do you want to know the grades of?: \"))\nsubject = int(input(\"What are the total subjects of these students?: \"))\n\n#Loop to store each subject grades in main dict\nfor i in range(subject):\n    grades_list = []\n    subject_name = input(f\"Enter the name of Subject No. {i+1} : \")\n    \n    #Collecting marks of all students for a particular subject\n    for i in range(students_number):\n        grade = int(input(f\"Enter {subject_name} marks of Student No.{i+1} : \"))\n        grades_list.append(grade) # add grades into the list\n        \n    #add Key \"subject name\" with a value of \"grades list\" into the main dictionary\n    subjects_grades.update({subject_name:grades_list}) \n    print(\" \") # for extra line space\n    \n# Calculating the average and displaying it\nfor i in subjects_grades:\n    value = subjects_grades[i]\n    total_sum = sum(value)\n    average = total_sum/len(value)\n    print(f\"The Average Of {i} grade is: {average}\")",
      "metadata": {
        "trusted": true
      },
      "outputs": [],
      "execution_count": null
    }
  ]
}
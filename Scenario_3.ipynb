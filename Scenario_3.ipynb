{
  "metadata": {
    "kernelspec": {
      "name": "python",
      "display_name": "Python (Pyodide)",
      "language": "python"
    },
    "language_info": {
      "codemirror_mode": {
        "name": "python",
        "version": 3
      },
      "file_extension": ".py",
      "mimetype": "text/x-python",
      "name": "python",
      "nbconvert_exporter": "python",
      "pygments_lexer": "ipython3",
      "version": "3.8"
    }
  },
  "nbformat_minor": 4,
  "nbformat": 4,
  "cells": [
    {
      "cell_type": "code",
      "source": "# Scenario No 3: Word Frequency Counter\n\nword_list = [\"apple\", \"banana\", \"apple\", \"orange\", \"banana\", \"grape\", \"apple\" ]\n\nFrequency = {} # Using a dictionary so we can store each word with its count\n\n#loop for counting each word frequency\nfor i in word_list:\n    count = word_list.count(i) \n    Frequency.update({i : count})\n\n# displaying the output\nprint(\"The frequencies of the given words are:\\n\")\nfor i in Frequency:\n    value = Frequency[i] # taking value (count) of each key (word)\n    \n    #using F-String conditional method just for better grammar :)\n    format = f\"{'times' if value>1 else 'time'}\"\n    \n    print(f\"{i}: {value} {format}\") #finally",
      "metadata": {
        "trusted": true
      },
      "outputs": [],
      "execution_count": null
    }
  ]
}
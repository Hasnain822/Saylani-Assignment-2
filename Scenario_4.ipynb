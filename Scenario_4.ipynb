{
  "metadata": {
    "kernelspec": {
      "name": "python",
      "display_name": "Python (Pyodide)",
      "language": "python"
    },
    "language_info": {
      "name": ""
    }
  },
  "nbformat_minor": 4,
  "nbformat": 4,
  "cells": [
    {
      "cell_type": "code",
      "source": "# Scenario No 4: Password Strength Checker\n\nwhile True:\n    password = input(\"Please Enter The Strong Password: \")\n    \n    # cehck if the password length is less than 8 charc:\n    if len(password)<8:\n        print(\"Your password should at least 8 characters long\")\n        continue # start the loop again\n    \n    # check if the password contain at least one digit\n    one_digit = None # created an empty veriable to store any digit\n    for i in password:\n         \n         #using \" .isdigit()\" func to identify any digit present in a string\"\n        if i.isdigit():\n            one_digit = i # if true then store it in above veriable\n            \n            break # break the loop\n        \n    if one_digit is None: # now checking veriable which if None means no digit found\n       print(\"Your password should contain at least one digit\")\n       continue # and start the loop again\n  \n  # same thing goes here for checking any capitalized letter\n    capital_letter = None # created an empty veriable to store upper case letter\n    for i in password:\n        # using \" .isupper()\" func to identify any upper case letter\n        if i.isupper(): \n            print(\"Your password is strong\")\n            capital_letter = i #if true then store it in above veriable\n            break #break the loop\n\n    if capital_letter is None: #if true means no capital letter found\n        print(\"Your password should contain at least one capital letter\")",
      "metadata": {
        "trusted": true
      },
      "outputs": [],
      "execution_count": null
    }
  ]
}
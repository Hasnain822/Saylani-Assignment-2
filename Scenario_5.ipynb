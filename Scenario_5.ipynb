{
  "metadata": {
    "kernelspec": {
      "name": "python",
      "display_name": "Python (Pyodide)",
      "language": "python"
    },
    "language_info": {
      "codemirror_mode": {
        "name": "python",
        "version": 3
      },
      "file_extension": ".py",
      "mimetype": "text/x-python",
      "name": "python",
      "nbconvert_exporter": "python",
      "pygments_lexer": "ipython3",
      "version": "3.8"
    }
  },
  "nbformat_minor": 4,
  "nbformat": 4,
  "cells": [
    {
      "cell_type": "code",
      "source": "#Scnario No 5: Voting System (Annual Employee Recognition Award)\n\n#Global dictionary to store nominees and their votes\nAward_Category = {\"Employee of the Year\": None ,\"Team Player of the Year\": None ,\"Innovation\": None}\n\nwhile True:\n    voters_count = int(input(\"How many people are there to vote? : \"))\n    #Loop for taking vote for each award category\n    for award in Award_Category:\n        #A dictionary containing candidates and for storing votes\n        all_candidates = {\"Candidate: A\": None, \"Candidate: B\": None, \"Candidate: C\": None, \"Candidate: D\": None}\n        print(f\"Please vote for the nominees one by one for \\\"{award} Award\\\"\")\n        \n        \n        # Creating an empty list to store voter's vote for each candidate\n        candidate_A = []\n        candidate_B = []\n        candidate_C = []\n        candidate_D = []\n        \n        for voter in range(voters_count):\n            #Loop for print all candidates\n            for names in all_candidates:\n                print(names)\n            \n            while True:\n                selected = input(f\"Voter #{voter+1} Please select the candidate you wish to vote for: \")\n                if selected.upper() != \"A\" and selected.upper() != \"B\" and selected.upper() != \"C\" and selected.upper() != \"D\":\n                    print(\"Please select one of the nominees above by entering their alias.\")\n                    continue\n                print(f\"Voter #{voter+1}, Your vote has been recorded:\")\n                break\n             \n            #Validating each vote and store it in candidates vote list\n            if selected.upper() == \"A\":\n                candidate_A.append(1)\n            elif selected.upper() == \"B\":\n                candidate_B.append(1)\n            elif selected.upper() == \"C\":\n                candidate_C.append(1)\n            elif selected.upper() == \"D\":\n                candidate_D.append(1)\n        print(\"\")  #for extra line space\n        #now storing each candidate votes list in all candidates dict\n        all_candidates[\"Candidate: A\"] = candidate_A\n        all_candidates[\"Candidate: B\"] = candidate_B\n        all_candidates[\"Candidate: C\"] = candidate_C\n        all_candidates[\"Candidate: D\"] = candidate_D\n        \n        # Append all_candidates dict in award_category dict with repect to each award\n        Award_Category[award] = all_candidates\n        \n    # Calculate votes of candidates in each award\n    for i in Award_Category:\n        all_awards = Award_Category[i]\n        \n        candidates_total = {} #storing sum of votes of every nominees\n        \n        print(f\"Results for {i} award is:\")\n        #. loop for votes counting of nominees\n        for nominees in all_awards:\n            vote_count = all_awards[nominees] # extract votes\n            vote_sum = sum(vote_count) #take sum of votes\n            candidates_total.update({vote_sum:nominees}) #and store it in candidates total\n            print(f\"{nominees}, {vote_sum}\")\n            \n        \n        # using max() func to get the winner\n        winners_vote = max(candidates_total.keys())\n           \n       # finally\n        print(\"\")\n        print(f\"With a total of {winners_vote} votes, the winner of the \\\"{i}\\\" award is..\\n{candidates_total[winners_vote]}\")",
      "metadata": {
        "trusted": true
      },
      "outputs": [],
      "execution_count": null
    }
  ]
}
{
  "metadata": {
    "kernelspec": {
      "name": "python",
      "display_name": "Python (Pyodide)",
      "language": "python"
    },
    "language_info": {
      "codemirror_mode": {
        "name": "python",
        "version": 3
      },
      "file_extension": ".py",
      "mimetype": "text/x-python",
      "name": "python",
      "nbconvert_exporter": "python",
      "pygments_lexer": "ipython3",
      "version": "3.8"
    }
  },
  "nbformat_minor": 4,
  "nbformat": 4,
  "cells": [
    {
      "cell_type": "code",
      "source": "# Scenario I: Grocery Shopping List\n\nwhile True:\n    items_list = []\n   \n    items_quantity = int(input(\"How many items do you want?: \"))\n    \n    # adding items into the list\n    for i in range(items_quantity):        \n       item = input(f\"Please Enter Your Grocery Item No. {i+1} : \")\n       items_list.append(item)\n    \n    # asking for add anything else\n    ask_for_adding = input(\"Do You Want To Add Anything Else?: \")\n    if ask_for_adding.lower() == \"yes\":\n        add_item = input(\"Please Enter The Item You Want To Add: \")\n        items_list.append(add_item)\n        \n    # asking for remove something from the list\n    ask_for_removeing = input(\"Do You Want To Remove Anything From The List?: \")\n    if ask_for_removeing == \"yes\":\n        \n        while True: # using while loop in case the item is not present in the list so we can ask again\n            remove_item = input(\"Please Enter The Item You Want To Remove: \")\n            \n            # check if the is not present in the list\n            if remove_item not in items_list:\n                print(\"This Item Is Not Present In Your Grocery List\")\n            else:\n                items_list.remove(remove_item)\n                break #Exit the loop after removing the item.\n    \n    #Print the final grocery list       \n    print(\"Here Is Your Final Grocery Shopping List:\")\n    for i in items_list:\n        print(f\"No.{items_list.index(i)+1} : {i}\")\n        ",
      "metadata": {
        "trusted": true
      },
      "outputs": [],
      "execution_count": null
    }
  ]
}